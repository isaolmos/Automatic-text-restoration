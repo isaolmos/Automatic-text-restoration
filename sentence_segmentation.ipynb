{
  "nbformat": 4,
  "nbformat_minor": 0,
  "metadata": {
    "accelerator": "GPU",
    "colab": {
      "name": "isa.ipynb",
      "provenance": [],
      "collapsed_sections": [],
      "machine_shape": "hm"
    },
    "kernelspec": {
      "display_name": "Python 3",
      "language": "python",
      "name": "python3"
    },
    "language_info": {
      "codemirror_mode": {
        "name": "ipython",
        "version": 3
      },
      "file_extension": ".py",
      "mimetype": "text/x-python",
      "name": "python",
      "nbconvert_exporter": "python",
      "pygments_lexer": "ipython3",
      "version": "3.7.6"
    }
  },
  "cells": [
    {
      "cell_type": "markdown",
      "metadata": {
        "id": "2ZT8Qo28KOlj"
      },
      "source": [
        "# SENTENCE SEGMENTATION"
      ]
    },
    {
      "cell_type": "code",
      "metadata": {
        "colab": {
          "base_uri": "https://localhost:8080/"
        },
        "id": "IOQ8U6XpsaHk",
        "outputId": "c996df8d-a356-4907-abeb-a5b635d7ef94"
      },
      "source": [
        "from google.colab import drive\n",
        "drive.mount('/content/drive')"
      ],
      "execution_count": 48,
      "outputs": [
        {
          "output_type": "stream",
          "text": [
            "Drive already mounted at /content/drive; to attempt to forcibly remount, call drive.mount(\"/content/drive\", force_remount=True).\n"
          ],
          "name": "stdout"
        }
      ]
    },
    {
      "cell_type": "code",
      "metadata": {
        "colab": {
          "base_uri": "https://localhost:8080/"
        },
        "id": "MVsUySSrpHw-",
        "outputId": "2e159503-3083-4a34-977a-83a801cdcfdf"
      },
      "source": [
        "cd drive/MyDrive/"
      ],
      "execution_count": 49,
      "outputs": [
        {
          "output_type": "stream",
          "text": [
            "[Errno 2] No such file or directory: 'drive/MyDrive/'\n",
            "/content/drive/MyDrive\n"
          ],
          "name": "stdout"
        }
      ]
    },
    {
      "cell_type": "code",
      "metadata": {
        "colab": {
          "base_uri": "https://localhost:8080/"
        },
        "id": "efZ2j9t9ObKB",
        "outputId": "0bda8bc3-e6dd-406e-af8c-a6d412a384bf"
      },
      "source": [
        "import tensorflow as tf\n",
        "tf.test.is_gpu_available()"
      ],
      "execution_count": 50,
      "outputs": [
        {
          "output_type": "execute_result",
          "data": {
            "text/plain": [
              "True"
            ]
          },
          "metadata": {
            "tags": []
          },
          "execution_count": 50
        }
      ]
    },
    {
      "cell_type": "markdown",
      "metadata": {
        "id": "lJ6RWmyzKUK4"
      },
      "source": [
        "**IMPORT DATASET**"
      ]
    },
    {
      "cell_type": "code",
      "metadata": {
        "id": "XObRKNkWKKOI"
      },
      "source": [
        "import pandas as pd\n",
        "import numpy as np\n",
        "df=pd.read_csv('/content/drive/MyDrive/COLAB/sentence_seg.csv',header=None)"
      ],
      "execution_count": 51,
      "outputs": []
    },
    {
      "cell_type": "code",
      "metadata": {
        "id": "_ICL2gK-nMKc"
      },
      "source": [
        "df.drop(0, inplace=True)"
      ],
      "execution_count": 52,
      "outputs": []
    },
    {
      "cell_type": "code",
      "metadata": {
        "id": "6-Jt7uvMsPtV"
      },
      "source": [
        "df.dropna(inplace=True)  #remove empty rows"
      ],
      "execution_count": 53,
      "outputs": []
    },
    {
      "cell_type": "markdown",
      "metadata": {
        "id": "QEez_2WNKXh7"
      },
      "source": [
        "**CONVERT TEXT TO LABELS: 1= FIRST WORD, 0 = WORDS IN THE MIDDLE, 2= FINAL WORD**"
      ]
    },
    {
      "cell_type": "code",
      "metadata": {
        "id": "VF3lUFhrKKOJ"
      },
      "source": [
        "def labels(row):  # assign labels\n",
        "    output=[]\n",
        "    for word in row.values[1].split():\n",
        "        if word == '.':\n",
        "            output.append('3')\n",
        "        elif word == ',':\n",
        "            output.append('2')\n",
        "        elif word.istitle():\n",
        "            output.append('1')\n",
        "        else:\n",
        "            output.append('0')\n",
        "    return output\n",
        "df['five_class']=df.apply(labels,axis=1)"
      ],
      "execution_count": 54,
      "outputs": []
    },
    {
      "cell_type": "code",
      "metadata": {
        "colab": {
          "base_uri": "https://localhost:8080/",
          "height": 414
        },
        "id": "dYdFQwvYtk4N",
        "outputId": "a4fbeacd-53d1-43cb-bbce-fc12f1a83b1b"
      },
      "source": [
        "df"
      ],
      "execution_count": 55,
      "outputs": [
        {
          "output_type": "execute_result",
          "data": {
            "text/html": [
              "<div>\n",
              "<style scoped>\n",
              "    .dataframe tbody tr th:only-of-type {\n",
              "        vertical-align: middle;\n",
              "    }\n",
              "\n",
              "    .dataframe tbody tr th {\n",
              "        vertical-align: top;\n",
              "    }\n",
              "\n",
              "    .dataframe thead th {\n",
              "        text-align: right;\n",
              "    }\n",
              "</style>\n",
              "<table border=\"1\" class=\"dataframe\">\n",
              "  <thead>\n",
              "    <tr style=\"text-align: right;\">\n",
              "      <th></th>\n",
              "      <th>0</th>\n",
              "      <th>1</th>\n",
              "      <th>five_class</th>\n",
              "    </tr>\n",
              "  </thead>\n",
              "  <tbody>\n",
              "    <tr>\n",
              "      <th>1</th>\n",
              "      <td>the jury further said in presentments that the...</td>\n",
              "      <td>The jury further said in presentments that the...</td>\n",
              "      <td>[1, 0, 0, 0, 0, 0, 0, 0, 1, 1, 1, 2, 0, 0, 0, ...</td>\n",
              "    </tr>\n",
              "    <tr>\n",
              "      <th>2</th>\n",
              "      <td>the term jury had been charged by fulton super...</td>\n",
              "      <td>The term jury had been charged by Fulton Super...</td>\n",
              "      <td>[1, 0, 0, 0, 0, 0, 0, 1, 1, 1, 1, 1, 1, 0, 0, ...</td>\n",
              "    </tr>\n",
              "    <tr>\n",
              "      <th>3</th>\n",
              "      <td>only a relative handful of such reports was re...</td>\n",
              "      <td>Only a relative handful of such reports was re...</td>\n",
              "      <td>[1, 0, 0, 0, 0, 0, 0, 0, 0, 2, 0, 0, 0, 2, 0, ...</td>\n",
              "    </tr>\n",
              "    <tr>\n",
              "      <th>4</th>\n",
              "      <td>the jury said it did find that many of registr...</td>\n",
              "      <td>The jury said it did find that many of registr...</td>\n",
              "      <td>[1, 0, 0, 0, 0, 0, 0, 0, 0, 0, 0, 0, 0, 0, 0, ...</td>\n",
              "    </tr>\n",
              "    <tr>\n",
              "      <th>5</th>\n",
              "      <td>it recommended that fulton legislators act to ...</td>\n",
              "      <td>It recommended that Fulton legislators act to ...</td>\n",
              "      <td>[1, 0, 0, 1, 0, 0, 0, 0, 0, 0, 0, 0, 0, 0, 0, ...</td>\n",
              "    </tr>\n",
              "    <tr>\n",
              "      <th>...</th>\n",
              "      <td>...</td>\n",
              "      <td>...</td>\n",
              "      <td>...</td>\n",
              "    </tr>\n",
              "    <tr>\n",
              "      <th>48839</th>\n",
              "      <td>first of all the six figures of the buddha you...</td>\n",
              "      <td>First of all , the six figures of the Buddha y...</td>\n",
              "      <td>[1, 0, 0, 2, 0, 0, 0, 0, 0, 1, 0, 0, 0, 1, 0, ...</td>\n",
              "    </tr>\n",
              "    <tr>\n",
              "      <th>48840</th>\n",
              "      <td>now you probably share the widespread western ...</td>\n",
              "      <td>Now , you probably share the widespread Wester...</td>\n",
              "      <td>[1, 2, 0, 0, 0, 0, 0, 1, 0, 0, 0, 1, 1, 0, 0, ...</td>\n",
              "    </tr>\n",
              "    <tr>\n",
              "      <th>48841</th>\n",
              "      <td>well ordinarily he is except as the wheel of t...</td>\n",
              "      <td>Well , ordinarily he is , except as the Wheel ...</td>\n",
              "      <td>[1, 2, 0, 0, 0, 2, 0, 0, 0, 1, 0, 0, 1, 0, 0, ...</td>\n",
              "    </tr>\n",
              "    <tr>\n",
              "      <th>48842</th>\n",
              "      <td>very peculiar retribution indeed seems to over...</td>\n",
              "      <td>Very peculiar retribution indeed seems to over...</td>\n",
              "      <td>[1, 0, 0, 0, 0, 0, 0, 0, 0, 3]</td>\n",
              "    </tr>\n",
              "    <tr>\n",
              "      <th>48843</th>\n",
              "      <td>eight or ten years ago a couple of french hood...</td>\n",
              "      <td>Eight or ten years ago , a couple of French ho...</td>\n",
              "      <td>[1, 0, 0, 0, 0, 2, 0, 0, 0, 1, 0, 0, 0, 0, 1, ...</td>\n",
              "    </tr>\n",
              "  </tbody>\n",
              "</table>\n",
              "<p>48840 rows × 3 columns</p>\n",
              "</div>"
            ],
            "text/plain": [
              "                                                       0  ...                                         five_class\n",
              "1      the jury further said in presentments that the...  ...  [1, 0, 0, 0, 0, 0, 0, 0, 1, 1, 1, 2, 0, 0, 0, ...\n",
              "2      the term jury had been charged by fulton super...  ...  [1, 0, 0, 0, 0, 0, 0, 1, 1, 1, 1, 1, 1, 0, 0, ...\n",
              "3      only a relative handful of such reports was re...  ...  [1, 0, 0, 0, 0, 0, 0, 0, 0, 2, 0, 0, 0, 2, 0, ...\n",
              "4      the jury said it did find that many of registr...  ...  [1, 0, 0, 0, 0, 0, 0, 0, 0, 0, 0, 0, 0, 0, 0, ...\n",
              "5      it recommended that fulton legislators act to ...  ...  [1, 0, 0, 1, 0, 0, 0, 0, 0, 0, 0, 0, 0, 0, 0, ...\n",
              "...                                                  ...  ...                                                ...\n",
              "48839  first of all the six figures of the buddha you...  ...  [1, 0, 0, 2, 0, 0, 0, 0, 0, 1, 0, 0, 0, 1, 0, ...\n",
              "48840  now you probably share the widespread western ...  ...  [1, 2, 0, 0, 0, 0, 0, 1, 0, 0, 0, 1, 1, 0, 0, ...\n",
              "48841  well ordinarily he is except as the wheel of t...  ...  [1, 2, 0, 0, 0, 2, 0, 0, 0, 1, 0, 0, 1, 0, 0, ...\n",
              "48842  very peculiar retribution indeed seems to over...  ...                     [1, 0, 0, 0, 0, 0, 0, 0, 0, 3]\n",
              "48843  eight or ten years ago a couple of french hood...  ...  [1, 0, 0, 0, 0, 2, 0, 0, 0, 1, 0, 0, 0, 0, 1, ...\n",
              "\n",
              "[48840 rows x 3 columns]"
            ]
          },
          "metadata": {
            "tags": []
          },
          "execution_count": 55
        }
      ]
    },
    {
      "cell_type": "code",
      "metadata": {
        "id": "6eRq6OimKXAF"
      },
      "source": [
        "rows=df.shape[0]//5  #create rows of 5 sentences each"
      ],
      "execution_count": 56,
      "outputs": []
    },
    {
      "cell_type": "code",
      "metadata": {
        "id": "k9_Jd3Q6KXCb"
      },
      "source": [
        "indices=[[ii]*5 for ii in range(rows)]\n",
        "df['indices']=np.array(indices).ravel()"
      ],
      "execution_count": 57,
      "outputs": []
    },
    {
      "cell_type": "code",
      "metadata": {
        "id": "vs8zseR-KXEi"
      },
      "source": [
        "df.set_index(\"indices\",inplace=True)"
      ],
      "execution_count": 58,
      "outputs": []
    },
    {
      "cell_type": "code",
      "metadata": {
        "colab": {
          "base_uri": "https://localhost:8080/",
          "height": 445
        },
        "id": "vM8cpBKzKdbw",
        "outputId": "3c4624ba-0003-45c3-98d1-b5633d5be329"
      },
      "source": [
        "df[['five_class']]"
      ],
      "execution_count": 59,
      "outputs": [
        {
          "output_type": "execute_result",
          "data": {
            "text/html": [
              "<div>\n",
              "<style scoped>\n",
              "    .dataframe tbody tr th:only-of-type {\n",
              "        vertical-align: middle;\n",
              "    }\n",
              "\n",
              "    .dataframe tbody tr th {\n",
              "        vertical-align: top;\n",
              "    }\n",
              "\n",
              "    .dataframe thead th {\n",
              "        text-align: right;\n",
              "    }\n",
              "</style>\n",
              "<table border=\"1\" class=\"dataframe\">\n",
              "  <thead>\n",
              "    <tr style=\"text-align: right;\">\n",
              "      <th></th>\n",
              "      <th>five_class</th>\n",
              "    </tr>\n",
              "    <tr>\n",
              "      <th>indices</th>\n",
              "      <th></th>\n",
              "    </tr>\n",
              "  </thead>\n",
              "  <tbody>\n",
              "    <tr>\n",
              "      <th>0</th>\n",
              "      <td>[1, 0, 0, 0, 0, 0, 0, 0, 1, 1, 1, 2, 0, 0, 0, ...</td>\n",
              "    </tr>\n",
              "    <tr>\n",
              "      <th>0</th>\n",
              "      <td>[1, 0, 0, 0, 0, 0, 0, 1, 1, 1, 1, 1, 1, 0, 0, ...</td>\n",
              "    </tr>\n",
              "    <tr>\n",
              "      <th>0</th>\n",
              "      <td>[1, 0, 0, 0, 0, 0, 0, 0, 0, 2, 0, 0, 0, 2, 0, ...</td>\n",
              "    </tr>\n",
              "    <tr>\n",
              "      <th>0</th>\n",
              "      <td>[1, 0, 0, 0, 0, 0, 0, 0, 0, 0, 0, 0, 0, 0, 0, ...</td>\n",
              "    </tr>\n",
              "    <tr>\n",
              "      <th>0</th>\n",
              "      <td>[1, 0, 0, 1, 0, 0, 0, 0, 0, 0, 0, 0, 0, 0, 0, ...</td>\n",
              "    </tr>\n",
              "    <tr>\n",
              "      <th>...</th>\n",
              "      <td>...</td>\n",
              "    </tr>\n",
              "    <tr>\n",
              "      <th>9767</th>\n",
              "      <td>[1, 0, 0, 2, 0, 0, 0, 0, 0, 1, 0, 0, 0, 1, 0, ...</td>\n",
              "    </tr>\n",
              "    <tr>\n",
              "      <th>9767</th>\n",
              "      <td>[1, 2, 0, 0, 0, 0, 0, 1, 0, 0, 0, 1, 1, 0, 0, ...</td>\n",
              "    </tr>\n",
              "    <tr>\n",
              "      <th>9767</th>\n",
              "      <td>[1, 2, 0, 0, 0, 2, 0, 0, 0, 1, 0, 0, 1, 0, 0, ...</td>\n",
              "    </tr>\n",
              "    <tr>\n",
              "      <th>9767</th>\n",
              "      <td>[1, 0, 0, 0, 0, 0, 0, 0, 0, 3]</td>\n",
              "    </tr>\n",
              "    <tr>\n",
              "      <th>9767</th>\n",
              "      <td>[1, 0, 0, 0, 0, 2, 0, 0, 0, 1, 0, 0, 0, 0, 1, ...</td>\n",
              "    </tr>\n",
              "  </tbody>\n",
              "</table>\n",
              "<p>48840 rows × 1 columns</p>\n",
              "</div>"
            ],
            "text/plain": [
              "                                                five_class\n",
              "indices                                                   \n",
              "0        [1, 0, 0, 0, 0, 0, 0, 0, 1, 1, 1, 2, 0, 0, 0, ...\n",
              "0        [1, 0, 0, 0, 0, 0, 0, 1, 1, 1, 1, 1, 1, 0, 0, ...\n",
              "0        [1, 0, 0, 0, 0, 0, 0, 0, 0, 2, 0, 0, 0, 2, 0, ...\n",
              "0        [1, 0, 0, 0, 0, 0, 0, 0, 0, 0, 0, 0, 0, 0, 0, ...\n",
              "0        [1, 0, 0, 1, 0, 0, 0, 0, 0, 0, 0, 0, 0, 0, 0, ...\n",
              "...                                                    ...\n",
              "9767     [1, 0, 0, 2, 0, 0, 0, 0, 0, 1, 0, 0, 0, 1, 0, ...\n",
              "9767     [1, 2, 0, 0, 0, 0, 0, 1, 0, 0, 0, 1, 1, 0, 0, ...\n",
              "9767     [1, 2, 0, 0, 0, 2, 0, 0, 0, 1, 0, 0, 1, 0, 0, ...\n",
              "9767                        [1, 0, 0, 0, 0, 0, 0, 0, 0, 3]\n",
              "9767     [1, 0, 0, 0, 0, 2, 0, 0, 0, 1, 0, 0, 0, 0, 1, ...\n",
              "\n",
              "[48840 rows x 1 columns]"
            ]
          },
          "metadata": {
            "tags": []
          },
          "execution_count": 59
        }
      ]
    },
    {
      "cell_type": "code",
      "metadata": {
        "id": "wCfyCdSpLbGj"
      },
      "source": [
        "new_df = (df[['five_class']].assign(labels = df[['five_class']].groupby(level = 0).cumcount())\n",
        "            .groupby([df[['five_class']].index,'labels']).first()\n",
        "            .unstack('labels')\n",
        "            .sort_index(axis =1,level = 1)\n",
        "            .droplevel(1,axis = 1))"
      ],
      "execution_count": 60,
      "outputs": []
    },
    {
      "cell_type": "code",
      "metadata": {
        "id": "NlKYiBShLqC_"
      },
      "source": [
        "new_df1 = (df[[0]].assign(labels = df[[0]].groupby(level = 0).cumcount())\n",
        "            .groupby([df[[0]].index,'labels']).first()\n",
        "            .unstack('labels')\n",
        "            .sort_index(axis =1,level = 1)\n",
        "            .droplevel(1,axis = 1))"
      ],
      "execution_count": 61,
      "outputs": []
    },
    {
      "cell_type": "code",
      "metadata": {
        "id": "C7ApkjcdLtBf"
      },
      "source": [
        "def join_one(row):\n",
        "    output=row.values[0]\n",
        "\n",
        "    for i in range(1,len(row)):\n",
        "        output=output+\" \"+row.values[i]\n",
        "    return output\n",
        "\n",
        "def join_one1(row):\n",
        "    output=row.values[0]\n",
        "\n",
        "    for i in range(1,len(row)):\n",
        "        output=output+row.values[i]\n",
        "    return output\n",
        "\n",
        "new_df['output']=new_df[:].apply(join_one1,axis=1)\n",
        "new_df1['output']=new_df1[:].apply(join_one,axis=1)"
      ],
      "execution_count": 62,
      "outputs": []
    },
    {
      "cell_type": "code",
      "metadata": {
        "colab": {
          "base_uri": "https://localhost:8080/",
          "height": 445
        },
        "id": "IfhWVljrLtGU",
        "outputId": "9a2d2e7b-2ef0-437d-860a-9ad91a7c4e4d"
      },
      "source": [
        "new_df1[['output']]"
      ],
      "execution_count": 63,
      "outputs": [
        {
          "output_type": "execute_result",
          "data": {
            "text/html": [
              "<div>\n",
              "<style scoped>\n",
              "    .dataframe tbody tr th:only-of-type {\n",
              "        vertical-align: middle;\n",
              "    }\n",
              "\n",
              "    .dataframe tbody tr th {\n",
              "        vertical-align: top;\n",
              "    }\n",
              "\n",
              "    .dataframe thead th {\n",
              "        text-align: right;\n",
              "    }\n",
              "</style>\n",
              "<table border=\"1\" class=\"dataframe\">\n",
              "  <thead>\n",
              "    <tr style=\"text-align: right;\">\n",
              "      <th></th>\n",
              "      <th>output</th>\n",
              "    </tr>\n",
              "    <tr>\n",
              "      <th>indices</th>\n",
              "      <th></th>\n",
              "    </tr>\n",
              "  </thead>\n",
              "  <tbody>\n",
              "    <tr>\n",
              "      <th>0</th>\n",
              "      <td>the jury further said in presentments that the...</td>\n",
              "    </tr>\n",
              "    <tr>\n",
              "      <th>1</th>\n",
              "      <td>the grand jury commented on a number of other ...</td>\n",
              "    </tr>\n",
              "    <tr>\n",
              "      <th>2</th>\n",
              "      <td>it urged that the next legislature provide ena...</td>\n",
              "    </tr>\n",
              "    <tr>\n",
              "      <th>3</th>\n",
              "      <td>failure to do this will continue to place a di...</td>\n",
              "    </tr>\n",
              "    <tr>\n",
              "      <th>4</th>\n",
              "      <td>the jury did not elaborate but it added that t...</td>\n",
              "    </tr>\n",
              "    <tr>\n",
              "      <th>...</th>\n",
              "      <td>...</td>\n",
              "    </tr>\n",
              "    <tr>\n",
              "      <th>9763</th>\n",
              "      <td>i merely draw an etymological distinction hopi...</td>\n",
              "    </tr>\n",
              "    <tr>\n",
              "      <th>9764</th>\n",
              "      <td>as doubtless forgotten the circumstances in th...</td>\n",
              "    </tr>\n",
              "    <tr>\n",
              "      <th>9765</th>\n",
              "      <td>you then descended one story glommed a televis...</td>\n",
              "    </tr>\n",
              "    <tr>\n",
              "      <th>9766</th>\n",
              "      <td>the foregoing aided by several clues withhold ...</td>\n",
              "    </tr>\n",
              "    <tr>\n",
              "      <th>9767</th>\n",
              "      <td>first of all the six figures of the buddha you...</td>\n",
              "    </tr>\n",
              "  </tbody>\n",
              "</table>\n",
              "<p>9768 rows × 1 columns</p>\n",
              "</div>"
            ],
            "text/plain": [
              "                                                    output\n",
              "indices                                                   \n",
              "0        the jury further said in presentments that the...\n",
              "1        the grand jury commented on a number of other ...\n",
              "2        it urged that the next legislature provide ena...\n",
              "3        failure to do this will continue to place a di...\n",
              "4        the jury did not elaborate but it added that t...\n",
              "...                                                    ...\n",
              "9763     i merely draw an etymological distinction hopi...\n",
              "9764     as doubtless forgotten the circumstances in th...\n",
              "9765     you then descended one story glommed a televis...\n",
              "9766     the foregoing aided by several clues withhold ...\n",
              "9767     first of all the six figures of the buddha you...\n",
              "\n",
              "[9768 rows x 1 columns]"
            ]
          },
          "metadata": {
            "tags": []
          },
          "execution_count": 63
        }
      ]
    },
    {
      "cell_type": "markdown",
      "metadata": {
        "id": "UQAjsOnlL2nq"
      },
      "source": [
        "**SET BATCH SIZE, EPOCHS...**"
      ]
    },
    {
      "cell_type": "code",
      "metadata": {
        "id": "o3I0nkJsKKOR"
      },
      "source": [
        "import numpy as np\n",
        "import tensorflow as tf\n",
        "from tensorflow import keras\n",
        "\n",
        "\n",
        "batch_size = 64 \n",
        "epochs = 20 \n",
        "latent_dim = 128  # Latent dimensionality of the encoding space.\n"
      ],
      "execution_count": 64,
      "outputs": []
    },
    {
      "cell_type": "markdown",
      "metadata": {
        "id": "1xdTLS5hL7Nu"
      },
      "source": [
        "**VECTORIZE THE DATA**"
      ]
    },
    {
      "cell_type": "code",
      "metadata": {
        "id": "e6GZu01eMV2b"
      },
      "source": [
        "data_path = \"/content/drive/MyDrive/COLAB/sentence_seg.csv\"\n",
        "input_texts = []\n",
        "target_texts = []\n",
        "input_words = set()\n",
        "target_words = set()\n",
        "with open(data_path, \"r\", encoding=\"utf-8\") as f:\n",
        "    lines = f.read().split(\"\\n\")\n",
        "with open(data_path, \"r\", encoding=\"utf-8\") as f:\n",
        "    target_lines = f.read().split(\"\\n\")\n",
        "    \n",
        "    \n",
        "lines=new_df1[['output']].values\n",
        "target_lines=new_df[['output']].values\n",
        "    \n",
        "for input_text, target_text in zip(lines[:], target_lines[:]):\n",
        "    input_texts.append(input_text[0])\n",
        "    target_texts.append(target_text[0])\n",
        "    for word in input_text:\n",
        "        if word not in input_words:\n",
        "            input_words.add(word)\n",
        "    input_words.add(' ')\n",
        "    target_words.add(' ')"
      ],
      "execution_count": 65,
      "outputs": []
    },
    {
      "cell_type": "code",
      "metadata": {
        "colab": {
          "base_uri": "https://localhost:8080/"
        },
        "id": "AV4znzAFMdWb",
        "outputId": "f820d036-5163-45bb-9d2e-6b7473f56055"
      },
      "source": [
        "input_words = sorted(list(input_words))\n",
        "target_words = sorted(list(target_words))\n",
        "max_encoder_seq_length = max([len(txt.split()) for txt in input_texts]) # max input and output length in the train set\n",
        "max_decoder_seq_length = max([len(txt) for txt in target_texts])\n",
        "\n",
        "print(\"Number of samples:\", len(input_texts))\n",
        "print(\"Max sequence length for inputs:\", max_encoder_seq_length)\n",
        "print(\"Max sequence length for outputs:\", max_decoder_seq_length)"
      ],
      "execution_count": 66,
      "outputs": [
        {
          "output_type": "stream",
          "text": [
            "Number of samples: 9768\n",
            "Max sequence length for inputs: 360\n",
            "Max sequence length for outputs: 385\n"
          ],
          "name": "stdout"
        }
      ]
    },
    {
      "cell_type": "code",
      "metadata": {
        "colab": {
          "base_uri": "https://localhost:8080/"
        },
        "id": "ZvOA9mMgKKOT",
        "outputId": "eba87a8e-69d3-4e0f-e69d-e240cbd09061"
      },
      "source": [
        "len(target_texts[0])"
      ],
      "execution_count": 67,
      "outputs": [
        {
          "output_type": "execute_result",
          "data": {
            "text/plain": [
              "144"
            ]
          },
          "metadata": {
            "tags": []
          },
          "execution_count": 67
        }
      ]
    },
    {
      "cell_type": "markdown",
      "metadata": {
        "id": "N96ku3y-MG4I"
      },
      "source": [
        "**TOKENIZE THE DATA**"
      ]
    },
    {
      "cell_type": "code",
      "metadata": {
        "id": "xXJxSRt4KKOU"
      },
      "source": [
        "from keras.preprocessing.text import Tokenizer"
      ],
      "execution_count": 68,
      "outputs": []
    },
    {
      "cell_type": "code",
      "metadata": {
        "id": "crgDhnxpKKOU"
      },
      "source": [
        "tokenizer = Tokenizer()  #tokenize the data\n",
        "tokenizer.fit_on_texts(input_texts)"
      ],
      "execution_count": 69,
      "outputs": []
    },
    {
      "cell_type": "code",
      "metadata": {
        "id": "oABiVVDEKKOV"
      },
      "source": [
        "encoded_docs = tokenizer.texts_to_sequences(input_texts) #padding"
      ],
      "execution_count": 70,
      "outputs": []
    },
    {
      "cell_type": "code",
      "metadata": {
        "id": "aXZPBITPKKOV"
      },
      "source": [
        "input_token_index = dict([(char, i) for i, char in enumerate(input_words)])\n",
        "target_token_index = dict([(char, i) for i, char in enumerate(target_words)])\n"
      ],
      "execution_count": 71,
      "outputs": []
    },
    {
      "cell_type": "code",
      "metadata": {
        "colab": {
          "base_uri": "https://localhost:8080/"
        },
        "id": "LDL-RRe7KKOW",
        "outputId": "17674099-5740-4a42-c03b-4d8bd39fcc8c"
      },
      "source": [
        "vocab_size = len(tokenizer.word_index)+1\n",
        "vocab_size"
      ],
      "execution_count": 72,
      "outputs": [
        {
          "output_type": "execute_result",
          "data": {
            "text/plain": [
              "38726"
            ]
          },
          "metadata": {
            "tags": []
          },
          "execution_count": 72
        }
      ]
    },
    {
      "cell_type": "markdown",
      "metadata": {
        "id": "Ws6s5kpwMOeH"
      },
      "source": [
        "**ENCODER AND DECODER**"
      ]
    },
    {
      "cell_type": "code",
      "metadata": {
        "id": "3HqhNF4DKKOW"
      },
      "source": [
        "encoder_input_data = np.zeros(\n",
        "    (len(input_texts), max_encoder_seq_length, 300), dtype=\"float32\"\n",
        ")\n",
        "decoder_input_data = np.zeros(\n",
        "    (len(input_texts), max_decoder_seq_length, 5), dtype=\"float32\"\n",
        ")\n",
        "\n",
        "decoder_target_data = np.zeros(\n",
        "    (len(input_texts), max_decoder_seq_length, 5), dtype=\"float32\"\n",
        ")"
      ],
      "execution_count": 73,
      "outputs": []
    },
    {
      "cell_type": "markdown",
      "metadata": {
        "id": "1PPz0v0bMUIF"
      },
      "source": [
        "**LOAD WORD2VEC**"
      ]
    },
    {
      "cell_type": "code",
      "metadata": {
        "id": "LdNsmMJHKKOX"
      },
      "source": [
        "# word embeddings\n",
        "import gensim.downloader as api\n",
        "\n",
        "wv = api.load('word2vec-google-news-300')"
      ],
      "execution_count": 74,
      "outputs": []
    },
    {
      "cell_type": "code",
      "metadata": {
        "id": "cI7eMv1EKKOY"
      },
      "source": [
        "pretrained_values=np.zeros((vocab_size,300))\n",
        "for key,value in tokenizer.word_index.items():\n",
        "    if key in wv:\n",
        "        pretrained_values[value,:]=wv[key]\n",
        "    else:\n",
        "        continue"
      ],
      "execution_count": 75,
      "outputs": []
    },
    {
      "cell_type": "code",
      "metadata": {
        "id": "4hg9XlEXKKOY"
      },
      "source": [
        "np.save('pretrained.npy', pretrained_values) #save the words embeddings in a numpy file (in order not to load the wv again)"
      ],
      "execution_count": 76,
      "outputs": []
    },
    {
      "cell_type": "code",
      "metadata": {
        "id": "iNZSD3NgKKOZ"
      },
      "source": [
        "pretrained_values1=np.load('pretrained.npy',)"
      ],
      "execution_count": 77,
      "outputs": []
    },
    {
      "cell_type": "code",
      "metadata": {
        "id": "cgUhANdFKKOZ"
      },
      "source": [
        "dict_words=tokenizer.word_index"
      ],
      "execution_count": 78,
      "outputs": []
    },
    {
      "cell_type": "code",
      "metadata": {
        "id": "6xaD0sJIKKOZ"
      },
      "source": [
        "for ii,sample in enumerate(encoded_docs[:]):\n",
        "    for jj,index in enumerate(sample):\n",
        "        output=pretrained_values1[index]\n",
        "        encoder_input_data[ii,jj,:]=output"
      ],
      "execution_count": 79,
      "outputs": []
    },
    {
      "cell_type": "code",
      "metadata": {
        "colab": {
          "base_uri": "https://localhost:8080/"
        },
        "id": "fvvX5oh6KKOa",
        "outputId": "5f82636f-4e95-4b95-e718-a7c192946d08"
      },
      "source": [
        "decoder_target_data.shape"
      ],
      "execution_count": 80,
      "outputs": [
        {
          "output_type": "execute_result",
          "data": {
            "text/plain": [
              "(9768, 385, 5)"
            ]
          },
          "metadata": {
            "tags": []
          },
          "execution_count": 80
        }
      ]
    },
    {
      "cell_type": "code",
      "metadata": {
        "colab": {
          "base_uri": "https://localhost:8080/"
        },
        "id": "tOOpG4-PKKOa",
        "outputId": "745d3eab-a819-4106-f82b-3c5846fdad9d"
      },
      "source": [
        "decoder_input_data.shape"
      ],
      "execution_count": 81,
      "outputs": [
        {
          "output_type": "execute_result",
          "data": {
            "text/plain": [
              "(9768, 385, 5)"
            ]
          },
          "metadata": {
            "tags": []
          },
          "execution_count": 81
        }
      ]
    },
    {
      "cell_type": "code",
      "metadata": {
        "colab": {
          "base_uri": "https://localhost:8080/"
        },
        "id": "lqXgr6HHEyQU",
        "outputId": "6271d374-f452-46ae-dcb9-17999df72193"
      },
      "source": [
        "print(sample)"
      ],
      "execution_count": 82,
      "outputs": [
        {
          "output_type": "stream",
          "text": [
            "[71, 2, 35, 1, 410, 909, 2, 1, 11987, 41, 38713, 256, 14725, 2357, 5, 453, 38714, 38715, 6, 1, 372, 3, 5, 236, 5282, 433, 2, 1, 2979, 11987, 16, 5, 38716, 1204, 75, 41, 346, 1103, 1, 3345, 702, 1623, 7, 1, 1161, 11987, 8, 1, 80, 18367, 2, 1, 5744, 95, 46, 52, 56, 38717, 3, 38718, 3, 1, 593, 102, 5821, 10, 8, 500, 13, 1, 1813, 2, 1, 301, 14307, 219, 19389, 3288, 48, 11581, 7982, 27, 38719, 1, 1331, 110, 3596, 14437, 586, 340, 4, 15342, 74, 38720, 999, 27, 619, 94, 365, 5, 825, 2, 712, 23495, 7244, 5, 16251, 38721, 190, 24, 1, 38722, 38723, 6, 1615, 3, 5, 317, 212, 4667, 57, 1, 38724, 14, 9490, 6177, 2, 38725]\n"
          ],
          "name": "stdout"
        }
      ]
    },
    {
      "cell_type": "code",
      "metadata": {
        "id": "gp0EfGaeKKOb"
      },
      "source": [
        "for ii,sample in enumerate(target_texts[:]):\n",
        "    for jj,index in enumerate(sample):\n",
        "        output=[0 for _ in range(5)]\n",
        "        output[int(index)] =1\n",
        "        decoder_input_data[ii,jj,:]=output\n",
        "        decoder_target_data[ii,jj,:]=output"
      ],
      "execution_count": 83,
      "outputs": []
    },
    {
      "cell_type": "code",
      "metadata": {
        "id": "B3SdZeepKKOb"
      },
      "source": [
        "num_decoder_tokens=5"
      ],
      "execution_count": 84,
      "outputs": []
    },
    {
      "cell_type": "markdown",
      "metadata": {
        "id": "V05W2BurM1zJ"
      },
      "source": [
        "**BUILD THE MODEL**"
      ]
    },
    {
      "cell_type": "code",
      "metadata": {
        "id": "uT14l4oxKKOc"
      },
      "source": [
        "# Define an input sequence and process it.\n",
        "encoder_inputs = keras.Input(shape=(None, 300))  ## 300\n",
        "encoder = keras.layers.Bidirectional(keras.layers.LSTM(latent_dim, return_state=True))\n",
        "encoder_outputs, forward_h, forward_c, backward_h, backward_c = encoder(encoder_inputs)\n",
        "state_h = keras.layers.Concatenate()([forward_h, backward_h])\n",
        "state_c = keras.layers.Concatenate()([forward_c, backward_c])\n",
        "\n",
        "\n",
        "encoder_states = [state_h, state_c]# discard encoder_outputs and only keep the states.\n",
        "decoder_inputs = keras.Input(shape=(None, num_decoder_tokens))# Set up the decoder as initial state.\n",
        "\n",
        "\n",
        "decoder_lstm = keras.layers.LSTM(2*latent_dim, return_sequences=True, return_state=True)\n",
        "decoder_outputs, _, _ = decoder_lstm(decoder_inputs, initial_state=encoder_states)\n",
        "decoder_dense = keras.layers.Dense(num_decoder_tokens, activation=\"softmax\")\n",
        "decoder_outputs = decoder_dense(decoder_outputs)\n",
        "\n",
        "# encoder_input_data and decoder_input_data into decoder_target_data\n",
        "model = keras.Model([encoder_inputs, decoder_inputs], decoder_outputs)\n",
        "\n"
      ],
      "execution_count": 85,
      "outputs": []
    },
    {
      "cell_type": "code",
      "metadata": {
        "id": "WTYQTaIQKKOd",
        "colab": {
          "base_uri": "https://localhost:8080/"
        },
        "outputId": "1b428952-a813-4599-a8bf-0dad3c8320eb"
      },
      "source": [
        "model.summary()"
      ],
      "execution_count": 86,
      "outputs": [
        {
          "output_type": "stream",
          "text": [
            "Model: \"model_1\"\n",
            "__________________________________________________________________________________________________\n",
            "Layer (type)                    Output Shape         Param #     Connected to                     \n",
            "==================================================================================================\n",
            "input_3 (InputLayer)            [(None, None, 300)]  0                                            \n",
            "__________________________________________________________________________________________________\n",
            "bidirectional_1 (Bidirectional) [(None, 256), (None, 439296      input_3[0][0]                    \n",
            "__________________________________________________________________________________________________\n",
            "input_4 (InputLayer)            [(None, None, 5)]    0                                            \n",
            "__________________________________________________________________________________________________\n",
            "concatenate_2 (Concatenate)     (None, 256)          0           bidirectional_1[0][1]            \n",
            "                                                                 bidirectional_1[0][3]            \n",
            "__________________________________________________________________________________________________\n",
            "concatenate_3 (Concatenate)     (None, 256)          0           bidirectional_1[0][2]            \n",
            "                                                                 bidirectional_1[0][4]            \n",
            "__________________________________________________________________________________________________\n",
            "lstm_3 (LSTM)                   [(None, None, 256),  268288      input_4[0][0]                    \n",
            "                                                                 concatenate_2[0][0]              \n",
            "                                                                 concatenate_3[0][0]              \n",
            "__________________________________________________________________________________________________\n",
            "dense_1 (Dense)                 (None, None, 5)      1285        lstm_3[0][0]                     \n",
            "==================================================================================================\n",
            "Total params: 708,869\n",
            "Trainable params: 708,869\n",
            "Non-trainable params: 0\n",
            "__________________________________________________________________________________________________\n"
          ],
          "name": "stdout"
        }
      ]
    },
    {
      "cell_type": "markdown",
      "metadata": {
        "id": "GZeK_tscNUbD"
      },
      "source": [
        "**TRAIN THE MODEL**"
      ]
    },
    {
      "cell_type": "code",
      "metadata": {
        "colab": {
          "base_uri": "https://localhost:8080/"
        },
        "id": "5cll_771KKOe",
        "outputId": "5e30870b-200a-4e4d-862b-0c2bd0e05c5c"
      },
      "source": [
        "opt = keras.optimizers.Adam(0.002)  #set the optimizer and learning rate\n",
        "model.compile(\n",
        "    optimizer=opt, loss=\"categorical_crossentropy\", metrics=[\"accuracy\",tf.keras.metrics.Recall(), tf.keras.metrics.Precision()] # set the loss function, and metrics\n",
        ")\n",
        "epochs = 10 #number of epochs\n",
        "model_data = model.fit(\n",
        "    [encoder_input_data, decoder_input_data],\n",
        "    decoder_target_data,\n",
        "    batch_size=batch_size,\n",
        "    epochs=epochs,\n",
        "    validation_split=0.2,  #split the test data\n",
        ")\n",
        "# Save the model\n",
        "model.save(\"sentence_seg\")"
      ],
      "execution_count": 87,
      "outputs": [
        {
          "output_type": "stream",
          "text": [
            "Epoch 1/10\n",
            "123/123 [==============================] - 19s 118ms/step - loss: 0.2453 - accuracy: 0.9087 - recall_1: 0.5170 - precision_1: 0.6806 - val_loss: 0.1586 - val_accuracy: 0.9573 - val_recall_1: 0.6694 - val_precision_1: 0.6829\n",
            "Epoch 2/10\n",
            "123/123 [==============================] - 13s 107ms/step - loss: 0.2264 - accuracy: 0.9462 - recall_1: 0.5138 - precision_1: 0.7939 - val_loss: 0.1505 - val_accuracy: 0.9581 - val_recall_1: 0.6422 - val_precision_1: 0.7807\n",
            "Epoch 3/10\n",
            "123/123 [==============================] - 13s 108ms/step - loss: 0.1766 - accuracy: 0.9573 - recall_1: 0.6364 - precision_1: 0.8744 - val_loss: 0.1497 - val_accuracy: 0.9588 - val_recall_1: 0.6946 - val_precision_1: 0.7930\n",
            "Epoch 4/10\n",
            "123/123 [==============================] - 13s 108ms/step - loss: 0.1175 - accuracy: 0.9722 - recall_1: 0.8200 - precision_1: 0.9252 - val_loss: 0.0326 - val_accuracy: 0.9945 - val_recall_1: 0.9222 - val_precision_1: 0.9967\n",
            "Epoch 5/10\n",
            "123/123 [==============================] - 13s 107ms/step - loss: 0.0268 - accuracy: 0.9953 - recall_1: 0.9567 - precision_1: 0.9972 - val_loss: 0.0220 - val_accuracy: 0.9952 - val_recall_1: 0.9357 - val_precision_1: 0.9971\n",
            "Epoch 6/10\n",
            "123/123 [==============================] - 13s 108ms/step - loss: 0.2418 - accuracy: 0.9487 - recall_1: 0.3828 - precision_1: 0.6618 - val_loss: 0.1820 - val_accuracy: 0.9579 - val_recall_1: 0.3798 - val_precision_1: 0.8115\n",
            "Epoch 7/10\n",
            "123/123 [==============================] - 13s 108ms/step - loss: 0.2088 - accuracy: 0.9472 - recall_1: 0.5895 - precision_1: 0.8281 - val_loss: 0.1672 - val_accuracy: 0.9592 - val_recall_1: 0.5835 - val_precision_1: 0.8098\n",
            "Epoch 8/10\n",
            "123/123 [==============================] - 13s 107ms/step - loss: 0.1937 - accuracy: 0.9507 - recall_1: 0.6866 - precision_1: 0.8405 - val_loss: 0.0983 - val_accuracy: 0.9733 - val_recall_1: 0.7679 - val_precision_1: 0.8991\n",
            "Epoch 9/10\n",
            "123/123 [==============================] - 13s 108ms/step - loss: 0.0910 - accuracy: 0.9804 - recall_1: 0.8491 - precision_1: 0.9564 - val_loss: 0.0502 - val_accuracy: 0.9886 - val_recall_1: 0.8931 - val_precision_1: 0.9665\n",
            "Epoch 10/10\n",
            "123/123 [==============================] - 13s 106ms/step - loss: 0.0411 - accuracy: 0.9921 - recall_1: 0.9260 - precision_1: 0.9938 - val_loss: 0.0413 - val_accuracy: 0.9918 - val_recall_1: 0.8580 - val_precision_1: 0.9946\n"
          ],
          "name": "stdout"
        },
        {
          "output_type": "stream",
          "text": [
            "WARNING:absl:Found untraced functions such as lstm_cell_7_layer_call_fn, lstm_cell_7_layer_call_and_return_conditional_losses, lstm_cell_5_layer_call_fn, lstm_cell_5_layer_call_and_return_conditional_losses, lstm_cell_6_layer_call_fn while saving (showing 5 of 15). These functions will not be directly callable after loading.\n"
          ],
          "name": "stderr"
        },
        {
          "output_type": "stream",
          "text": [
            "INFO:tensorflow:Assets written to: sentence_seg/assets\n"
          ],
          "name": "stdout"
        },
        {
          "output_type": "stream",
          "text": [
            "INFO:tensorflow:Assets written to: sentence_seg/assets\n"
          ],
          "name": "stderr"
        }
      ]
    },
    {
      "cell_type": "code",
      "metadata": {
        "colab": {
          "base_uri": "https://localhost:8080/"
        },
        "id": "XyyJ4WfeKKOe",
        "outputId": "71bd55f0-8279-4bcc-be54-aff284dd86ea"
      },
      "source": [
        "encoder_input_data[:10].shape"
      ],
      "execution_count": 92,
      "outputs": [
        {
          "output_type": "execute_result",
          "data": {
            "text/plain": [
              "(10, 360, 300)"
            ]
          },
          "metadata": {
            "tags": []
          },
          "execution_count": 92
        }
      ]
    },
    {
      "cell_type": "markdown",
      "metadata": {
        "id": "bPku15G9KKOf"
      },
      "source": [
        "### New Data to predict"
      ]
    },
    {
      "cell_type": "code",
      "metadata": {
        "id": "zuEyHN2LKKOf"
      },
      "source": [
        "with open('/content/drive/MyDrive/COLAB/story2.txt', 'r') as file:\n",
        "    story = file.readline().strip()"
      ],
      "execution_count": 93,
      "outputs": []
    },
    {
      "cell_type": "code",
      "metadata": {
        "colab": {
          "base_uri": "https://localhost:8080/"
        },
        "id": "-d2hA3ZbNhWb",
        "outputId": "02b081d7-2de3-4735-ab22-6a0b14eef445"
      },
      "source": [
        "new_word_np=np.zeros((1,385,300))\n",
        "all_text=story.split()\n",
        "\n",
        "sentences = []\n",
        "for ii in range(0,len(all_text)-385,385):\n",
        "\n",
        "    sentence1=all_text[ii:ii+385]\n",
        "\n",
        "    for jj,word in enumerate(sentence1):\n",
        "        if word in dict_words:\n",
        "            index=dict_words[word]\n",
        "            new_word_np[:,jj,:]=pretrained_values1[index]\n",
        "        else:\n",
        "            continue\n",
        "            \n",
        "    y_pred=model.predict([new_word_np, decoder_input_data[:1]])\n",
        "    \n",
        "    y_pred=np.argmax(y_pred,axis=2)\n",
        "    \n",
        "    output_sentence=\"\"\n",
        "    for ii,value in enumerate(y_pred[0]):\n",
        "        if value=='2':\n",
        "            output_sentence=output_sentence+\" \"+sentence1[ii]+'\\n\\n'\n",
        "        else:\n",
        "            output_sentence=output_sentence + \" \" +sentence1[ii]\n",
        "        \n",
        "    print('\\nInput Sentence: ',\" \".join(sentence1))\n",
        "    print(\"\\nOutput Sentence: \",output_sentence)  \n",
        "    sentences.append(output_sentence) "
      ],
      "execution_count": 94,
      "outputs": [
        {
          "output_type": "stream",
          "text": [
            "\n",
            "Input Sentence:  north richmond street being blind was a quiet street except at the hour when the christian brothers school set the boys freean uninhabited house of two storeys stood at the blindend detached from it sneigh bours in a square ground the other houses of the street conscious of decent lives within the mgazed at one another with brown imperturbable faces the formerten ant of our houseapriest had died in the backdrawing roomair musty from having been long enclosed hung in all the rooms and the waste room behind the kitchen was littered with olduseless papers among these i found a few paper covered books the pages of which we recurled and damp the abbot by walter scott the devout communicant and the memoirs of vidocqiliked the last best because its leaves were yel low the wild garden behind the house contained a central appletree and a few straggling bushe sunder one of which i found the latetenants rusty bicycle pumphe had been a very charitable priest in his will he had leftall his money to institutions and the furniture of his house to his sister when the short days of winter came dusk fell before we hadwell eaten our dinners when we met in the street the houses had grown sombret he space of skya boveus was the colour of everchanging violet and towards it the lamps of the street lifted their feeblel anternsthe cold airstung us and we played till ourbodies glowed our shout sechoed in the silent street the career of our play brought us throught he dark muddy lanes behind the houses where we ran the gaunt let of the rough tribes from the cottages to the back doors of the dark dripping gardens where odours a rose from the ash pits to the darkodo rous stables where a coach mans moothed and combed the horse or shook music from the buckled harness when we returned to the street light from the kitchen windows had filled the areas if my uncle wasseen turning the corner we hid in the shadow until we had seen himsafely housed or if manganssister came out on the door step to call her brother in to his teawew atched her from our shadowpeer up and down the street we waited to see whether she would rem a\n",
            "\n",
            "Output Sentence:   north richmond street being blind was a quiet street except at the hour when the christian brothers school set the boys freean uninhabited house of two storeys stood at the blindend detached from it sneigh bours in a square ground the other houses of the street conscious of decent lives within the mgazed at one another with brown imperturbable faces the formerten ant of our houseapriest had died in the backdrawing roomair musty from having been long enclosed hung in all the rooms and the waste room behind the kitchen was littered with olduseless papers among these i found a few paper covered books the pages of which we recurled and damp the abbot by walter scott the devout communicant and the memoirs of vidocqiliked the last best because its leaves were yel low the wild garden behind the house contained a central appletree and a few straggling bushe sunder one of which i found the latetenants rusty bicycle pumphe had been a very charitable priest in his will he had leftall his money to institutions and the furniture of his house to his sister when the short days of winter came dusk fell before we hadwell eaten our dinners when we met in the street the houses had grown sombret he space of skya boveus was the colour of everchanging violet and towards it the lamps of the street lifted their feeblel anternsthe cold airstung us and we played till ourbodies glowed our shout sechoed in the silent street the career of our play brought us throught he dark muddy lanes behind the houses where we ran the gaunt let of the rough tribes from the cottages to the back doors of the dark dripping gardens where odours a rose from the ash pits to the darkodo rous stables where a coach mans moothed and combed the horse or shook music from the buckled harness when we returned to the street light from the kitchen windows had filled the areas if my uncle wasseen turning the corner we hid in the shadow until we had seen himsafely housed or if manganssister came out on the door step to call her brother in to his teawew atched her from our shadowpeer up and down the street we waited to see whether she would rem a\n",
            "\n",
            "Input Sentence:  in orgo in and if she remained we left our shadow and walked up tomang ans steps resignedly she was waiting for usher figure defined by the light from the half opened door her brother always teased her before he obeyed and i stood by the railing slooking a ther her dress swung as she moved her body and the soft rope of her hair tossed from side to side every morning i lay on the floor in the front parlour watching her door the blind was pulled down to within aninch of the sash so that i could not be seen when she came out on the door step my heart leape diran to the hall seized my books and followed he rikepther brown figure always in my e yea ndwhen we came near the pointatw hichour ways diverge diquickened my pace and passed her this happened morning after morning i had never spoken to her except for a few casual words and yet her name was like a summons toall my foolish blood her image accompanied me even in places the most hostile to romance on saturday evenings when my a untwent marketing i had to go to carry some of the parcels we walked through the flaring streets jostled by drunken men and bargaining wome namid the curses of labourers the shrill litanies of shop boys whostood on guard by the barrels of pigscheeks then a sal chanting of stree tsingers whos ang a come all you aboutod on ovanross aor a ballad about the troubles in our native landthese no ises converged in a single sensation of life for meiimagined that i bore my chalices a fely through a throng of foes her name sprang to my lips at moments instrange prayers and praises which i myselfd idnot understand my eyes were often full of tears i could not tell why and at times af lood from my he art seemed to pour itself out in to my bosom i thought little of the future i did not know whether i would ever speak to he ror not or if ispoke to her how i could tell he rofmy confused adoration but my body was like a harp and her words and gestures were like fingers running upon the wires one\n",
            "\n",
            "Output Sentence:   in orgo in and if she remained we left our shadow and walked up tomang ans steps resignedly she was waiting for usher figure defined by the light from the half opened door her brother always teased her before he obeyed and i stood by the railing slooking a ther her dress swung as she moved her body and the soft rope of her hair tossed from side to side every morning i lay on the floor in the front parlour watching her door the blind was pulled down to within aninch of the sash so that i could not be seen when she came out on the door step my heart leape diran to the hall seized my books and followed he rikepther brown figure always in my e yea ndwhen we came near the pointatw hichour ways diverge diquickened my pace and passed her this happened morning after morning i had never spoken to her except for a few casual words and yet her name was like a summons toall my foolish blood her image accompanied me even in places the most hostile to romance on saturday evenings when my a untwent marketing i had to go to carry some of the parcels we walked through the flaring streets jostled by drunken men and bargaining wome namid the curses of labourers the shrill litanies of shop boys whostood on guard by the barrels of pigscheeks then a sal chanting of stree tsingers whos ang a come all you aboutod on ovanross aor a ballad about the troubles in our native landthese no ises converged in a single sensation of life for meiimagined that i bore my chalices a fely through a throng of foes her name sprang to my lips at moments instrange prayers and praises which i myselfd idnot understand my eyes were often full of tears i could not tell why and at times af lood from my he art seemed to pour itself out in to my bosom i thought little of the future i did not know whether i would ever speak to he ror not or if ispoke to her how i could tell he rofmy confused adoration but my body was like a harp and her words and gestures were like fingers running upon the wires one\n",
            "\n",
            "Input Sentence:  evening i went in to the back draw in groom in which the priest had died it was adark rainy evening and there was no sound in the housethrough one of the brokenp anes i heard the rain impinge upon the earth the fine incessant needles of water playing in the sodden bedssome distant lamporlighted windowg leamed below me i wast hankful that i could see so little all my sensesseemed to desire toveil themselves and feeling tha tiwas about to slipfrom the mipressed the palms of my hands together until they trembled murmuringo loveolove many times at last she spoke tomewhen she addressed the first words to me i wasso confused that i did not know what to answers he asked mewas i going to araby i for got whet her i answered yes or no it would be a splendid bazaars he said she would love to go and why cant you i asked whiles he spokes he turned a silver brace let round and round her wrists he could not goshesaid because there would be a retreat that week in her conventher brother and two other boys were fighting for their caps and i was alone at the railings she held one of the spikes bowing her head towards me the lightfrom the lampopposite our door caught the white curve of her neck litup her hair that rested there and falling lit upthe hand upon the railing it fell over one side of her dress and caught the white border of a pettic oatjust visible as she stood at ease its well for you she said i figo i said i will bring you something what innumerable follies laid was temy waking and sleeping thoughts after that evening i wished to annihilate the tedious intervening daysic hafed against the work of school at night in my bedroom and by day in the classroom her i mage came between me and the page i strove to read the syllables of the word a raby we recalled tome through the silence in which my soull uxuriated and cast an eastern en chantment over meiasked forleave to go to the b a zaar on saturday night my aunt was surprised and hoped it was not some freemason affairian swered few questions in class i watched\n",
            "\n",
            "Output Sentence:   evening i went in to the back draw in groom in which the priest had died it was adark rainy evening and there was no sound in the housethrough one of the brokenp anes i heard the rain impinge upon the earth the fine incessant needles of water playing in the sodden bedssome distant lamporlighted windowg leamed below me i wast hankful that i could see so little all my sensesseemed to desire toveil themselves and feeling tha tiwas about to slipfrom the mipressed the palms of my hands together until they trembled murmuringo loveolove many times at last she spoke tomewhen she addressed the first words to me i wasso confused that i did not know what to answers he asked mewas i going to araby i for got whet her i answered yes or no it would be a splendid bazaars he said she would love to go and why cant you i asked whiles he spokes he turned a silver brace let round and round her wrists he could not goshesaid because there would be a retreat that week in her conventher brother and two other boys were fighting for their caps and i was alone at the railings she held one of the spikes bowing her head towards me the lightfrom the lampopposite our door caught the white curve of her neck litup her hair that rested there and falling lit upthe hand upon the railing it fell over one side of her dress and caught the white border of a pettic oatjust visible as she stood at ease its well for you she said i figo i said i will bring you something what innumerable follies laid was temy waking and sleeping thoughts after that evening i wished to annihilate the tedious intervening daysic hafed against the work of school at night in my bedroom and by day in the classroom her i mage came between me and the page i strove to read the syllables of the word a raby we recalled tome through the silence in which my soull uxuriated and cast an eastern en chantment over meiasked forleave to go to the b a zaar on saturday night my aunt was surprised and hoped it was not some freemason affairian swered few questions in class i watched\n",
            "\n",
            "Input Sentence:  my masters face pass from amiability to sternnes she hoped i was not beginning toidle i could not call my wandering thoughts together i had hardly any patience with the serious work of life which now that its tood between meand my desire seemed to me child splayugly mono to nouschild splayon saturday morning i reminded my uncle that i wished to go to the bazaar in the evening he was fussing at the hall stand looking for the hat brush and answered mecurtly yes boyi knowas he was in the hall i could not go in to the front parlour and lie at the windo wileft the house in bad humour and walked slowly towards the school the air was pitilessly raw and already my heartm is gave mewhenicame home to dinner my uncle had not yet been home still it was early is at staring at the clock for sometime and when it sticking beganto irritate meileft the room i mounted the stair case and gained the upper part of the house the high coldempty gloomy rooms liberated me and i went from room to roomsinging from the front window i sawmy companions playing below in the street their cries reached me weakened and indistinct and leaning my forehead against the cool glassilooked over at the dark house where she lived i may have stood there for an hour seeing nothing but the brown clad figure cast by my imagination touched discreetly by the lamplight at the curved neck at the hand upon the railings and at the border below the dress when i came down stairs again i found mrsmercersitting at the fires he was an old gar rulous woman a pawn brokers widow who collected used stamps for somepious purpose i had to endure the gossip of the teat a ble the meal was prolonged beyond an hour and stillmy uncle did not comemrsmercer stood up to go she was sorry she couldnt wait any longer but it was after eigh to clock and she did not like to be outlate as the nightair was badfor her when she had gone i began to walk up and down the room clenching my fist smyaunt sai dima fraid you mayputoff your bazaar for this night of our lord at nineoclock i heard\n",
            "\n",
            "Output Sentence:   my masters face pass from amiability to sternnes she hoped i was not beginning toidle i could not call my wandering thoughts together i had hardly any patience with the serious work of life which now that its tood between meand my desire seemed to me child splayugly mono to nouschild splayon saturday morning i reminded my uncle that i wished to go to the bazaar in the evening he was fussing at the hall stand looking for the hat brush and answered mecurtly yes boyi knowas he was in the hall i could not go in to the front parlour and lie at the windo wileft the house in bad humour and walked slowly towards the school the air was pitilessly raw and already my heartm is gave mewhenicame home to dinner my uncle had not yet been home still it was early is at staring at the clock for sometime and when it sticking beganto irritate meileft the room i mounted the stair case and gained the upper part of the house the high coldempty gloomy rooms liberated me and i went from room to roomsinging from the front window i sawmy companions playing below in the street their cries reached me weakened and indistinct and leaning my forehead against the cool glassilooked over at the dark house where she lived i may have stood there for an hour seeing nothing but the brown clad figure cast by my imagination touched discreetly by the lamplight at the curved neck at the hand upon the railings and at the border below the dress when i came down stairs again i found mrsmercersitting at the fires he was an old gar rulous woman a pawn brokers widow who collected used stamps for somepious purpose i had to endure the gossip of the teat a ble the meal was prolonged beyond an hour and stillmy uncle did not comemrsmercer stood up to go she was sorry she couldnt wait any longer but it was after eigh to clock and she did not like to be outlate as the nightair was badfor her when she had gone i began to walk up and down the room clenching my fist smyaunt sai dima fraid you mayputoff your bazaar for this night of our lord at nineoclock i heard\n",
            "\n",
            "Input Sentence:  my uncle slatchkey in the halldoor i heard him talking to himself and heard the hall stand rocking when it had received the weight of his overcoat i could interpret these signs when he was midway through his dinneriasked him to give me the money to go to the bazaar he had forgotten the people arein bed and after their first slee pnow he said i did nots milemyaunt said to him energetically cant you give him the money and let him go you vekept him late enoug has it i smyuncle said he was very sorry he had forgotten he said he believed in the old saying all work and no play makes jack a dull boyhe asked me where i was going and when i told him a second time he asked me didik now the ar absfare well to his steed when i left the kitchen he was about to recite the opening lines of the piece tomy a untiheld a flor intightly in my hand as i strode down bucking hams treet towards the station the sight of the streets thronged with buyers and glaring with gas recalled to me the purpose of my journey i took my seat in a third class carriage of a deserted train after an in tolerable delay the train moved out of the station slowly it crepton ward among ruinous houses and over the twinkling river a twe stlandrow station a crowd of people pressed to the carriage doors but the porters moved them back saying that it was a special train for the bazaarir emained alone in the bare carriage in a few minutes the traindrew up beside an improvised wooden platformipassed out on to the roadand saw by the lighted dial of a clock that it wasten minutes toten in front of me was a large building which displayed the magical name i could not find any six pennyentrance and fearing that the bazaar would be closed i passed in quickly through a turnstile handing a shilling to a weary looking manifound myselfina big hall girded at half it sheight by a gallery nearly all the stalls we reclosed and the greater part of the hall was indark nessire cognized a silence like that which per vades a church after a service i\n",
            "\n",
            "Output Sentence:   my uncle slatchkey in the halldoor i heard him talking to himself and heard the hall stand rocking when it had received the weight of his overcoat i could interpret these signs when he was midway through his dinneriasked him to give me the money to go to the bazaar he had forgotten the people arein bed and after their first slee pnow he said i did nots milemyaunt said to him energetically cant you give him the money and let him go you vekept him late enoug has it i smyuncle said he was very sorry he had forgotten he said he believed in the old saying all work and no play makes jack a dull boyhe asked me where i was going and when i told him a second time he asked me didik now the ar absfare well to his steed when i left the kitchen he was about to recite the opening lines of the piece tomy a untiheld a flor intightly in my hand as i strode down bucking hams treet towards the station the sight of the streets thronged with buyers and glaring with gas recalled to me the purpose of my journey i took my seat in a third class carriage of a deserted train after an in tolerable delay the train moved out of the station slowly it crepton ward among ruinous houses and over the twinkling river a twe stlandrow station a crowd of people pressed to the carriage doors but the porters moved them back saying that it was a special train for the bazaarir emained alone in the bare carriage in a few minutes the traindrew up beside an improvised wooden platformipassed out on to the roadand saw by the lighted dial of a clock that it wasten minutes toten in front of me was a large building which displayed the magical name i could not find any six pennyentrance and fearing that the bazaar would be closed i passed in quickly through a turnstile handing a shilling to a weary looking manifound myselfina big hall girded at half it sheight by a gallery nearly all the stalls we reclosed and the greater part of the hall was indark nessire cognized a silence like that which per vades a church after a service i\n"
          ],
          "name": "stdout"
        }
      ]
    },
    {
      "cell_type": "code",
      "metadata": {
        "colab": {
          "base_uri": "https://localhost:8080/"
        },
        "id": "bVUIqyrKacGY",
        "outputId": "dea502de-82c7-44a2-bbdb-ed9def0e04e9"
      },
      "source": [
        "all_text=story.split()\n",
        "\n",
        "print(len(y_pred[0]))"
      ],
      "execution_count": 95,
      "outputs": [
        {
          "output_type": "stream",
          "text": [
            "385\n"
          ],
          "name": "stdout"
        }
      ]
    }
  ]
}